{
 "cells": [
  {
   "cell_type": "code",
   "execution_count": null,
   "id": "9803b7f5-bbd6-4b1f-a8ee-0944e755c0a5",
   "metadata": {},
   "outputs": [],
   "source": []
  }
 ],
 "metadata": {
  "kernelspec": {
   "display_name": "Python 3.8.8 64-bit ('dev': conda)",
   "language": "python",
   "name": "python388jvsc74a57bd0aeb41122d04dfa4a85eba97579844b778e04418b7034b9d608ec539f4ca41812"
  },
  "language_info": {
   "codemirror_mode": {
    "name": "ipython",
    "version": 3
   },
   "file_extension": ".py",
   "mimetype": "text/x-python",
   "name": "python",
   "nbconvert_exporter": "python",
   "pygments_lexer": "ipython3",
   "version": "3.8.8"
  }
 },
 "nbformat": 4,
 "nbformat_minor": 5
}
